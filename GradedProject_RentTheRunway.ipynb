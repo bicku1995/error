{
 "cells": [
  {
   "cell_type": "markdown",
   "id": "4902a665",
   "metadata": {},
   "source": [
    "# Graded Project\n",
    "Machine Learning - Unsupervised Learning"
   ]
  },
  {
   "cell_type": "markdown",
   "id": "6f2a148b",
   "metadata": {},
   "source": [
    "# RentTheRunway(E-commerce platform)"
   ]
  },
  {
   "cell_type": "markdown",
   "id": "e5e2e106",
   "metadata": {},
   "source": [
    "Dataset Description:\n",
    "The dataset contains measurements of clothing fit from RentTheRunway.\n",
    "RentTheRunWay is a unique platform that allows women to rent clothes for\n",
    "various occasions. The collected data is of several categories. This dataset\n",
    "contains self-reported fit feedback from customers as well as other side\n",
    "information like reviews, ratings, product categories, catalog sizes, customers’\n",
    "measurements,etc."
   ]
  },
  {
   "cell_type": "markdown",
   "id": "aa9babfa",
   "metadata": {},
   "source": [
    "# 1. Load the required libraries and read the dataset."
   ]
  },
  {
   "cell_type": "code",
   "execution_count": 1,
   "id": "3240f579",
   "metadata": {},
   "outputs": [],
   "source": [
    "# importing libraries\n",
    "\n",
    "import pandas as pd\n",
    "import numpy as np\n",
    "import matplotlib.pyplot as plt\n",
    "import seaborn as sns\n",
    "import warnings\n",
    "warnings.filterwarnings('ignore')\n",
    "\n",
    "from sklearn.preprocessing import StandardScaler,LabelEncoder\n",
    "from scipy import stats\n",
    "from sklearn.cluster import KMeans\n",
    "from scipy.stats import zscore\n",
    "from scipy.spatial import distance\n",
    "from scipy.cluster.hierarchy import linkage, dendrogram, fcluster\n",
    "from sklearn.cluster import AgglomerativeClustering\n",
    "from sklearn.decomposition import PCA\n",
    "from sklearn.model_selection import train_test_split\n",
    "from sklearn import preprocessing\n",
    "from sklearn.preprocessing import Normalizer"
   ]
  },
  {
   "cell_type": "markdown",
   "id": "46028ea9",
   "metadata": {},
   "source": [
    "# 2. Check the first few samples, shape, info of the data and try to familiarize yourself with different features"
   ]
  },
  {
   "cell_type": "code",
   "execution_count": 2,
   "id": "1b91c2c7",
   "metadata": {},
   "outputs": [
    {
     "data": {
      "text/html": [
       "<div>\n",
       "<style scoped>\n",
       "    .dataframe tbody tr th:only-of-type {\n",
       "        vertical-align: middle;\n",
       "    }\n",
       "\n",
       "    .dataframe tbody tr th {\n",
       "        vertical-align: top;\n",
       "    }\n",
       "\n",
       "    .dataframe thead th {\n",
       "        text-align: right;\n",
       "    }\n",
       "</style>\n",
       "<table border=\"1\" class=\"dataframe\">\n",
       "  <thead>\n",
       "    <tr style=\"text-align: right;\">\n",
       "      <th></th>\n",
       "      <th>Unnamed: 0</th>\n",
       "      <th>fit</th>\n",
       "      <th>user_id</th>\n",
       "      <th>bust size</th>\n",
       "      <th>item_id</th>\n",
       "      <th>weight</th>\n",
       "      <th>rating</th>\n",
       "      <th>rented for</th>\n",
       "      <th>review_text</th>\n",
       "      <th>body type</th>\n",
       "      <th>review_summary</th>\n",
       "      <th>category</th>\n",
       "      <th>height</th>\n",
       "      <th>size</th>\n",
       "      <th>age</th>\n",
       "      <th>review_date</th>\n",
       "    </tr>\n",
       "  </thead>\n",
       "  <tbody>\n",
       "    <tr>\n",
       "      <th>0</th>\n",
       "      <td>0</td>\n",
       "      <td>fit</td>\n",
       "      <td>420272</td>\n",
       "      <td>34d</td>\n",
       "      <td>2260466</td>\n",
       "      <td>137lbs</td>\n",
       "      <td>10.0</td>\n",
       "      <td>vacation</td>\n",
       "      <td>An adorable romper! Belt and zipper were a lit...</td>\n",
       "      <td>hourglass</td>\n",
       "      <td>So many compliments!</td>\n",
       "      <td>romper</td>\n",
       "      <td>5' 8\"</td>\n",
       "      <td>14</td>\n",
       "      <td>28.0</td>\n",
       "      <td>April 20, 2016</td>\n",
       "    </tr>\n",
       "    <tr>\n",
       "      <th>1</th>\n",
       "      <td>1</td>\n",
       "      <td>fit</td>\n",
       "      <td>273551</td>\n",
       "      <td>34b</td>\n",
       "      <td>153475</td>\n",
       "      <td>132lbs</td>\n",
       "      <td>10.0</td>\n",
       "      <td>other</td>\n",
       "      <td>I rented this dress for a photo shoot. The the...</td>\n",
       "      <td>straight &amp; narrow</td>\n",
       "      <td>I felt so glamourous!!!</td>\n",
       "      <td>gown</td>\n",
       "      <td>5' 6\"</td>\n",
       "      <td>12</td>\n",
       "      <td>36.0</td>\n",
       "      <td>June 18, 2013</td>\n",
       "    </tr>\n",
       "    <tr>\n",
       "      <th>2</th>\n",
       "      <td>2</td>\n",
       "      <td>fit</td>\n",
       "      <td>360448</td>\n",
       "      <td>NaN</td>\n",
       "      <td>1063761</td>\n",
       "      <td>NaN</td>\n",
       "      <td>10.0</td>\n",
       "      <td>party</td>\n",
       "      <td>This hugged in all the right places! It was a ...</td>\n",
       "      <td>NaN</td>\n",
       "      <td>It was a great time to celebrate the (almost) ...</td>\n",
       "      <td>sheath</td>\n",
       "      <td>5' 4\"</td>\n",
       "      <td>4</td>\n",
       "      <td>116.0</td>\n",
       "      <td>December 14, 2015</td>\n",
       "    </tr>\n",
       "    <tr>\n",
       "      <th>3</th>\n",
       "      <td>3</td>\n",
       "      <td>fit</td>\n",
       "      <td>909926</td>\n",
       "      <td>34c</td>\n",
       "      <td>126335</td>\n",
       "      <td>135lbs</td>\n",
       "      <td>8.0</td>\n",
       "      <td>formal affair</td>\n",
       "      <td>I rented this for my company's black tie award...</td>\n",
       "      <td>pear</td>\n",
       "      <td>Dress arrived on time and in perfect condition.</td>\n",
       "      <td>dress</td>\n",
       "      <td>5' 5\"</td>\n",
       "      <td>8</td>\n",
       "      <td>34.0</td>\n",
       "      <td>February 12, 2014</td>\n",
       "    </tr>\n",
       "    <tr>\n",
       "      <th>4</th>\n",
       "      <td>4</td>\n",
       "      <td>fit</td>\n",
       "      <td>151944</td>\n",
       "      <td>34b</td>\n",
       "      <td>616682</td>\n",
       "      <td>145lbs</td>\n",
       "      <td>10.0</td>\n",
       "      <td>wedding</td>\n",
       "      <td>I have always been petite in my upper body and...</td>\n",
       "      <td>athletic</td>\n",
       "      <td>Was in love with this dress !!!</td>\n",
       "      <td>gown</td>\n",
       "      <td>5' 9\"</td>\n",
       "      <td>12</td>\n",
       "      <td>27.0</td>\n",
       "      <td>September 26, 2016</td>\n",
       "    </tr>\n",
       "  </tbody>\n",
       "</table>\n",
       "</div>"
      ],
      "text/plain": [
       "   Unnamed: 0  fit  user_id bust size  item_id  weight  rating     rented for  \\\n",
       "0           0  fit   420272       34d  2260466  137lbs    10.0       vacation   \n",
       "1           1  fit   273551       34b   153475  132lbs    10.0          other   \n",
       "2           2  fit   360448       NaN  1063761     NaN    10.0          party   \n",
       "3           3  fit   909926       34c   126335  135lbs     8.0  formal affair   \n",
       "4           4  fit   151944       34b   616682  145lbs    10.0        wedding   \n",
       "\n",
       "                                         review_text          body type  \\\n",
       "0  An adorable romper! Belt and zipper were a lit...          hourglass   \n",
       "1  I rented this dress for a photo shoot. The the...  straight & narrow   \n",
       "2  This hugged in all the right places! It was a ...                NaN   \n",
       "3  I rented this for my company's black tie award...               pear   \n",
       "4  I have always been petite in my upper body and...           athletic   \n",
       "\n",
       "                                      review_summary category height  size  \\\n",
       "0                               So many compliments!   romper  5' 8\"    14   \n",
       "1                            I felt so glamourous!!!     gown  5' 6\"    12   \n",
       "2  It was a great time to celebrate the (almost) ...   sheath  5' 4\"     4   \n",
       "3   Dress arrived on time and in perfect condition.     dress  5' 5\"     8   \n",
       "4                    Was in love with this dress !!!     gown  5' 9\"    12   \n",
       "\n",
       "     age         review_date  \n",
       "0   28.0      April 20, 2016  \n",
       "1   36.0       June 18, 2013  \n",
       "2  116.0   December 14, 2015  \n",
       "3   34.0   February 12, 2014  \n",
       "4   27.0  September 26, 2016  "
      ]
     },
     "execution_count": 2,
     "metadata": {},
     "output_type": "execute_result"
    }
   ],
   "source": [
    "df=pd.read_csv(\"renttherunway.csv\")\n",
    "df.head()"
   ]
  },
  {
   "cell_type": "code",
   "execution_count": 3,
   "id": "6ab5114c",
   "metadata": {},
   "outputs": [
    {
     "data": {
      "text/plain": [
       "(192544, 16)"
      ]
     },
     "execution_count": 3,
     "metadata": {},
     "output_type": "execute_result"
    }
   ],
   "source": [
    "df.shape"
   ]
  },
  {
   "cell_type": "markdown",
   "id": "3df50bbf",
   "metadata": {},
   "source": [
    "So this dataset got data with 16 columns(attributes) against which there is 192544 entries"
   ]
  },
  {
   "cell_type": "code",
   "execution_count": 4,
   "id": "d503a934",
   "metadata": {},
   "outputs": [
    {
     "name": "stdout",
     "output_type": "stream",
     "text": [
      "<class 'pandas.core.frame.DataFrame'>\n",
      "RangeIndex: 192544 entries, 0 to 192543\n",
      "Data columns (total 16 columns):\n",
      " #   Column          Non-Null Count   Dtype  \n",
      "---  ------          --------------   -----  \n",
      " 0   Unnamed: 0      192544 non-null  int64  \n",
      " 1   fit             192544 non-null  object \n",
      " 2   user_id         192544 non-null  int64  \n",
      " 3   bust size       174133 non-null  object \n",
      " 4   item_id         192544 non-null  int64  \n",
      " 5   weight          162562 non-null  object \n",
      " 6   rating          192462 non-null  float64\n",
      " 7   rented for      192534 non-null  object \n",
      " 8   review_text     192482 non-null  object \n",
      " 9   body type       177907 non-null  object \n",
      " 10  review_summary  192199 non-null  object \n",
      " 11  category        192544 non-null  object \n",
      " 12  height          191867 non-null  object \n",
      " 13  size            192544 non-null  int64  \n",
      " 14  age             191584 non-null  float64\n",
      " 15  review_date     192544 non-null  object \n",
      "dtypes: float64(2), int64(4), object(10)\n",
      "memory usage: 23.5+ MB\n"
     ]
    }
   ],
   "source": [
    "df.info()"
   ]
  },
  {
   "cell_type": "raw",
   "id": "cb84da51",
   "metadata": {},
   "source": [
    "-In this dataset there are 2 float ,4 int and 10 object datatype column\n",
    "-We can also see some column having null data as all column does not have 192544 entries"
   ]
  },
  {
   "cell_type": "markdown",
   "id": "ed94d834",
   "metadata": {},
   "source": [
    "# 3. Check if there are any duplicate records in the dataset? If any, drop them."
   ]
  },
  {
   "cell_type": "code",
   "execution_count": 5,
   "id": "ab9be273",
   "metadata": {},
   "outputs": [
    {
     "data": {
      "text/plain": [
       "0"
      ]
     },
     "execution_count": 5,
     "metadata": {},
     "output_type": "execute_result"
    }
   ],
   "source": [
    "len(df[df.duplicated()])"
   ]
  },
  {
   "cell_type": "markdown",
   "id": "a8131d66",
   "metadata": {},
   "source": [
    "No duplicate values present"
   ]
  },
  {
   "cell_type": "markdown",
   "id": "073166c0",
   "metadata": {},
   "source": [
    "# 4. Drop the columns which you think redundant for the analysis.(Hint: drop columns like ‘id’, ‘review’) "
   ]
  },
  {
   "cell_type": "code",
   "execution_count": 6,
   "id": "531fc7b2",
   "metadata": {},
   "outputs": [
    {
     "data": {
      "text/html": [
       "<div>\n",
       "<style scoped>\n",
       "    .dataframe tbody tr th:only-of-type {\n",
       "        vertical-align: middle;\n",
       "    }\n",
       "\n",
       "    .dataframe tbody tr th {\n",
       "        vertical-align: top;\n",
       "    }\n",
       "\n",
       "    .dataframe thead th {\n",
       "        text-align: right;\n",
       "    }\n",
       "</style>\n",
       "<table border=\"1\" class=\"dataframe\">\n",
       "  <thead>\n",
       "    <tr style=\"text-align: right;\">\n",
       "      <th></th>\n",
       "      <th>fit</th>\n",
       "      <th>bust size</th>\n",
       "      <th>item_id</th>\n",
       "      <th>weight</th>\n",
       "      <th>rating</th>\n",
       "      <th>rented for</th>\n",
       "      <th>body type</th>\n",
       "      <th>category</th>\n",
       "      <th>height</th>\n",
       "      <th>size</th>\n",
       "      <th>age</th>\n",
       "    </tr>\n",
       "  </thead>\n",
       "  <tbody>\n",
       "    <tr>\n",
       "      <th>0</th>\n",
       "      <td>fit</td>\n",
       "      <td>34d</td>\n",
       "      <td>2260466</td>\n",
       "      <td>137lbs</td>\n",
       "      <td>10.0</td>\n",
       "      <td>vacation</td>\n",
       "      <td>hourglass</td>\n",
       "      <td>romper</td>\n",
       "      <td>5' 8\"</td>\n",
       "      <td>14</td>\n",
       "      <td>28.0</td>\n",
       "    </tr>\n",
       "    <tr>\n",
       "      <th>1</th>\n",
       "      <td>fit</td>\n",
       "      <td>34b</td>\n",
       "      <td>153475</td>\n",
       "      <td>132lbs</td>\n",
       "      <td>10.0</td>\n",
       "      <td>other</td>\n",
       "      <td>straight &amp; narrow</td>\n",
       "      <td>gown</td>\n",
       "      <td>5' 6\"</td>\n",
       "      <td>12</td>\n",
       "      <td>36.0</td>\n",
       "    </tr>\n",
       "    <tr>\n",
       "      <th>2</th>\n",
       "      <td>fit</td>\n",
       "      <td>NaN</td>\n",
       "      <td>1063761</td>\n",
       "      <td>NaN</td>\n",
       "      <td>10.0</td>\n",
       "      <td>party</td>\n",
       "      <td>NaN</td>\n",
       "      <td>sheath</td>\n",
       "      <td>5' 4\"</td>\n",
       "      <td>4</td>\n",
       "      <td>116.0</td>\n",
       "    </tr>\n",
       "    <tr>\n",
       "      <th>3</th>\n",
       "      <td>fit</td>\n",
       "      <td>34c</td>\n",
       "      <td>126335</td>\n",
       "      <td>135lbs</td>\n",
       "      <td>8.0</td>\n",
       "      <td>formal affair</td>\n",
       "      <td>pear</td>\n",
       "      <td>dress</td>\n",
       "      <td>5' 5\"</td>\n",
       "      <td>8</td>\n",
       "      <td>34.0</td>\n",
       "    </tr>\n",
       "    <tr>\n",
       "      <th>4</th>\n",
       "      <td>fit</td>\n",
       "      <td>34b</td>\n",
       "      <td>616682</td>\n",
       "      <td>145lbs</td>\n",
       "      <td>10.0</td>\n",
       "      <td>wedding</td>\n",
       "      <td>athletic</td>\n",
       "      <td>gown</td>\n",
       "      <td>5' 9\"</td>\n",
       "      <td>12</td>\n",
       "      <td>27.0</td>\n",
       "    </tr>\n",
       "  </tbody>\n",
       "</table>\n",
       "</div>"
      ],
      "text/plain": [
       "   fit bust size  item_id  weight  rating     rented for          body type  \\\n",
       "0  fit       34d  2260466  137lbs    10.0       vacation          hourglass   \n",
       "1  fit       34b   153475  132lbs    10.0          other  straight & narrow   \n",
       "2  fit       NaN  1063761     NaN    10.0          party                NaN   \n",
       "3  fit       34c   126335  135lbs     8.0  formal affair               pear   \n",
       "4  fit       34b   616682  145lbs    10.0        wedding           athletic   \n",
       "\n",
       "  category height  size    age  \n",
       "0   romper  5' 8\"    14   28.0  \n",
       "1     gown  5' 6\"    12   36.0  \n",
       "2   sheath  5' 4\"     4  116.0  \n",
       "3    dress  5' 5\"     8   34.0  \n",
       "4     gown  5' 9\"    12   27.0  "
      ]
     },
     "execution_count": 6,
     "metadata": {},
     "output_type": "execute_result"
    }
   ],
   "source": [
    "df=df.drop(columns=['user_id','Unnamed: 0','review_text','review_summary','review_date'],axis=1)\n",
    "df.head()"
   ]
  },
  {
   "cell_type": "markdown",
   "id": "67a78e7e",
   "metadata": {},
   "source": [
    "Dropped the redundant columns"
   ]
  },
  {
   "cell_type": "markdown",
   "id": "c173c8d8",
   "metadata": {},
   "source": [
    "# 5. Check the column 'weight', Is there any presence of string data? If yes, remove the string data and convert to float. (Hint: 'weight' has the suffix as lbs)"
   ]
  },
  {
   "cell_type": "code",
   "execution_count": 7,
   "id": "a4843380",
   "metadata": {},
   "outputs": [],
   "source": [
    "df['weight']=df['weight'].str.replace('lbs','').astype(float)"
   ]
  },
  {
   "cell_type": "code",
   "execution_count": 8,
   "id": "a1b28973",
   "metadata": {},
   "outputs": [
    {
     "data": {
      "text/plain": [
       "0         137.0\n",
       "1         132.0\n",
       "2           NaN\n",
       "3         135.0\n",
       "4         145.0\n",
       "          ...  \n",
       "192539    140.0\n",
       "192540    100.0\n",
       "192541    135.0\n",
       "192542    165.0\n",
       "192543    155.0\n",
       "Name: weight, Length: 192544, dtype: float64"
      ]
     },
     "execution_count": 8,
     "metadata": {},
     "output_type": "execute_result"
    }
   ],
   "source": [
    "df['weight']"
   ]
  },
  {
   "cell_type": "markdown",
   "id": "7f0c2893",
   "metadata": {},
   "source": [
    "# 6. Check the unique categories for the column 'rented for' and group 'party: cocktail' category with 'party'. "
   ]
  },
  {
   "cell_type": "code",
   "execution_count": 9,
   "id": "5ef88364",
   "metadata": {},
   "outputs": [
    {
     "data": {
      "text/plain": [
       "array(['vacation', 'other', 'party', 'formal affair', 'wedding', 'date',\n",
       "       'everyday', 'work', nan, 'party: cocktail'], dtype=object)"
      ]
     },
     "execution_count": 9,
     "metadata": {},
     "output_type": "execute_result"
    }
   ],
   "source": [
    "df['rented for'].unique()"
   ]
  },
  {
   "cell_type": "code",
   "execution_count": 10,
   "id": "0d2e72ee",
   "metadata": {},
   "outputs": [],
   "source": [
    "df['rented for']=df['rented for'].str.replace('party: cocktail','party')"
   ]
  },
  {
   "cell_type": "code",
   "execution_count": 11,
   "id": "941868b6",
   "metadata": {},
   "outputs": [
    {
     "data": {
      "text/plain": [
       "array(['vacation', 'other', 'party', 'formal affair', 'wedding', 'date',\n",
       "       'everyday', 'work', nan], dtype=object)"
      ]
     },
     "execution_count": 11,
     "metadata": {},
     "output_type": "execute_result"
    }
   ],
   "source": [
    "df['rented for'].unique()"
   ]
  },
  {
   "cell_type": "markdown",
   "id": "8c292a28",
   "metadata": {},
   "source": [
    "party: cocktail replaced with party"
   ]
  },
  {
   "cell_type": "markdown",
   "id": "ff802045",
   "metadata": {},
   "source": [
    "# 7. The column 'height' is in feet with a quotation mark, Convert to inches with float datatype. "
   ]
  },
  {
   "cell_type": "code",
   "execution_count": 12,
   "id": "fdda5649",
   "metadata": {},
   "outputs": [],
   "source": [
    "df['height']=(df['height'].str.split(\"'\",expand=True)[0].astype(float))*12+df['height'].str.split(\"'\",expand=True)[1].str.split('\"',expand=True)[0].astype(float)\n",
    "\n"
   ]
  },
  {
   "cell_type": "code",
   "execution_count": 13,
   "id": "a7aa9a8f",
   "metadata": {},
   "outputs": [
    {
     "data": {
      "text/plain": [
       "0         68.0\n",
       "1         66.0\n",
       "2         64.0\n",
       "3         65.0\n",
       "4         69.0\n",
       "          ... \n",
       "192539    69.0\n",
       "192540    61.0\n",
       "192541    68.0\n",
       "192542    66.0\n",
       "192543    66.0\n",
       "Name: height, Length: 192544, dtype: float64"
      ]
     },
     "execution_count": 13,
     "metadata": {},
     "output_type": "execute_result"
    }
   ],
   "source": [
    "df['height']"
   ]
  },
  {
   "cell_type": "markdown",
   "id": "f0f5bda0",
   "metadata": {},
   "source": [
    "# 8. Check for missing values in each column of the dataset? If it exists, impute them with appropriate methods. "
   ]
  },
  {
   "cell_type": "code",
   "execution_count": 14,
   "id": "bfb11cb4",
   "metadata": {},
   "outputs": [
    {
     "data": {
      "text/plain": [
       "fit            0.000000\n",
       "bust size      9.561970\n",
       "item_id        0.000000\n",
       "weight        15.571506\n",
       "rating         0.042588\n",
       "rented for     0.005194\n",
       "body type      7.601899\n",
       "category       0.000000\n",
       "height         0.351608\n",
       "size           0.000000\n",
       "age            0.498587\n",
       "dtype: float64"
      ]
     },
     "execution_count": 14,
     "metadata": {},
     "output_type": "execute_result"
    }
   ],
   "source": [
    "df.isna().sum()/len(df)*100"
   ]
  },
  {
   "cell_type": "code",
   "execution_count": 15,
   "id": "2adfa583",
   "metadata": {},
   "outputs": [
    {
     "data": {
      "text/html": [
       "<div>\n",
       "<style scoped>\n",
       "    .dataframe tbody tr th:only-of-type {\n",
       "        vertical-align: middle;\n",
       "    }\n",
       "\n",
       "    .dataframe tbody tr th {\n",
       "        vertical-align: top;\n",
       "    }\n",
       "\n",
       "    .dataframe thead th {\n",
       "        text-align: right;\n",
       "    }\n",
       "</style>\n",
       "<table border=\"1\" class=\"dataframe\">\n",
       "  <thead>\n",
       "    <tr style=\"text-align: right;\">\n",
       "      <th></th>\n",
       "      <th>fit</th>\n",
       "      <th>bust size</th>\n",
       "      <th>item_id</th>\n",
       "      <th>weight</th>\n",
       "      <th>rating</th>\n",
       "      <th>rented for</th>\n",
       "      <th>body type</th>\n",
       "      <th>category</th>\n",
       "      <th>height</th>\n",
       "      <th>size</th>\n",
       "      <th>age</th>\n",
       "    </tr>\n",
       "  </thead>\n",
       "  <tbody>\n",
       "    <tr>\n",
       "      <th>0</th>\n",
       "      <td>fit</td>\n",
       "      <td>34d</td>\n",
       "      <td>2260466</td>\n",
       "      <td>137.0</td>\n",
       "      <td>10.0</td>\n",
       "      <td>vacation</td>\n",
       "      <td>hourglass</td>\n",
       "      <td>romper</td>\n",
       "      <td>68.0</td>\n",
       "      <td>14</td>\n",
       "      <td>28.0</td>\n",
       "    </tr>\n",
       "    <tr>\n",
       "      <th>1</th>\n",
       "      <td>fit</td>\n",
       "      <td>34b</td>\n",
       "      <td>153475</td>\n",
       "      <td>132.0</td>\n",
       "      <td>10.0</td>\n",
       "      <td>other</td>\n",
       "      <td>straight &amp; narrow</td>\n",
       "      <td>gown</td>\n",
       "      <td>66.0</td>\n",
       "      <td>12</td>\n",
       "      <td>36.0</td>\n",
       "    </tr>\n",
       "    <tr>\n",
       "      <th>2</th>\n",
       "      <td>fit</td>\n",
       "      <td>34b</td>\n",
       "      <td>1063761</td>\n",
       "      <td>130.0</td>\n",
       "      <td>10.0</td>\n",
       "      <td>party</td>\n",
       "      <td>hourglass</td>\n",
       "      <td>sheath</td>\n",
       "      <td>64.0</td>\n",
       "      <td>4</td>\n",
       "      <td>116.0</td>\n",
       "    </tr>\n",
       "    <tr>\n",
       "      <th>3</th>\n",
       "      <td>fit</td>\n",
       "      <td>34c</td>\n",
       "      <td>126335</td>\n",
       "      <td>135.0</td>\n",
       "      <td>8.0</td>\n",
       "      <td>formal affair</td>\n",
       "      <td>pear</td>\n",
       "      <td>dress</td>\n",
       "      <td>65.0</td>\n",
       "      <td>8</td>\n",
       "      <td>34.0</td>\n",
       "    </tr>\n",
       "    <tr>\n",
       "      <th>4</th>\n",
       "      <td>fit</td>\n",
       "      <td>34b</td>\n",
       "      <td>616682</td>\n",
       "      <td>145.0</td>\n",
       "      <td>10.0</td>\n",
       "      <td>wedding</td>\n",
       "      <td>athletic</td>\n",
       "      <td>gown</td>\n",
       "      <td>69.0</td>\n",
       "      <td>12</td>\n",
       "      <td>27.0</td>\n",
       "    </tr>\n",
       "    <tr>\n",
       "      <th>...</th>\n",
       "      <td>...</td>\n",
       "      <td>...</td>\n",
       "      <td>...</td>\n",
       "      <td>...</td>\n",
       "      <td>...</td>\n",
       "      <td>...</td>\n",
       "      <td>...</td>\n",
       "      <td>...</td>\n",
       "      <td>...</td>\n",
       "      <td>...</td>\n",
       "      <td>...</td>\n",
       "    </tr>\n",
       "    <tr>\n",
       "      <th>192539</th>\n",
       "      <td>fit</td>\n",
       "      <td>34dd</td>\n",
       "      <td>2252812</td>\n",
       "      <td>140.0</td>\n",
       "      <td>10.0</td>\n",
       "      <td>work</td>\n",
       "      <td>hourglass</td>\n",
       "      <td>jumpsuit</td>\n",
       "      <td>69.0</td>\n",
       "      <td>8</td>\n",
       "      <td>42.0</td>\n",
       "    </tr>\n",
       "    <tr>\n",
       "      <th>192540</th>\n",
       "      <td>fit</td>\n",
       "      <td>32c</td>\n",
       "      <td>682043</td>\n",
       "      <td>100.0</td>\n",
       "      <td>10.0</td>\n",
       "      <td>work</td>\n",
       "      <td>petite</td>\n",
       "      <td>dress</td>\n",
       "      <td>61.0</td>\n",
       "      <td>4</td>\n",
       "      <td>29.0</td>\n",
       "    </tr>\n",
       "    <tr>\n",
       "      <th>192541</th>\n",
       "      <td>fit</td>\n",
       "      <td>36a</td>\n",
       "      <td>683251</td>\n",
       "      <td>135.0</td>\n",
       "      <td>6.0</td>\n",
       "      <td>everyday</td>\n",
       "      <td>straight &amp; narrow</td>\n",
       "      <td>dress</td>\n",
       "      <td>68.0</td>\n",
       "      <td>8</td>\n",
       "      <td>31.0</td>\n",
       "    </tr>\n",
       "    <tr>\n",
       "      <th>192542</th>\n",
       "      <td>fit</td>\n",
       "      <td>36c</td>\n",
       "      <td>126335</td>\n",
       "      <td>165.0</td>\n",
       "      <td>10.0</td>\n",
       "      <td>wedding</td>\n",
       "      <td>pear</td>\n",
       "      <td>dress</td>\n",
       "      <td>66.0</td>\n",
       "      <td>16</td>\n",
       "      <td>31.0</td>\n",
       "    </tr>\n",
       "    <tr>\n",
       "      <th>192543</th>\n",
       "      <td>fit</td>\n",
       "      <td>36b</td>\n",
       "      <td>127865</td>\n",
       "      <td>155.0</td>\n",
       "      <td>10.0</td>\n",
       "      <td>wedding</td>\n",
       "      <td>athletic</td>\n",
       "      <td>gown</td>\n",
       "      <td>66.0</td>\n",
       "      <td>16</td>\n",
       "      <td>30.0</td>\n",
       "    </tr>\n",
       "  </tbody>\n",
       "</table>\n",
       "<p>192544 rows × 11 columns</p>\n",
       "</div>"
      ],
      "text/plain": [
       "        fit bust size  item_id  weight  rating     rented for  \\\n",
       "0       fit       34d  2260466   137.0    10.0       vacation   \n",
       "1       fit       34b   153475   132.0    10.0          other   \n",
       "2       fit       34b  1063761   130.0    10.0          party   \n",
       "3       fit       34c   126335   135.0     8.0  formal affair   \n",
       "4       fit       34b   616682   145.0    10.0        wedding   \n",
       "...     ...       ...      ...     ...     ...            ...   \n",
       "192539  fit      34dd  2252812   140.0    10.0           work   \n",
       "192540  fit       32c   682043   100.0    10.0           work   \n",
       "192541  fit       36a   683251   135.0     6.0       everyday   \n",
       "192542  fit       36c   126335   165.0    10.0        wedding   \n",
       "192543  fit       36b   127865   155.0    10.0        wedding   \n",
       "\n",
       "                body type  category  height  size    age  \n",
       "0               hourglass    romper    68.0    14   28.0  \n",
       "1       straight & narrow      gown    66.0    12   36.0  \n",
       "2               hourglass    sheath    64.0     4  116.0  \n",
       "3                    pear     dress    65.0     8   34.0  \n",
       "4                athletic      gown    69.0    12   27.0  \n",
       "...                   ...       ...     ...   ...    ...  \n",
       "192539          hourglass  jumpsuit    69.0     8   42.0  \n",
       "192540             petite     dress    61.0     4   29.0  \n",
       "192541  straight & narrow     dress    68.0     8   31.0  \n",
       "192542               pear     dress    66.0    16   31.0  \n",
       "192543           athletic      gown    66.0    16   30.0  \n",
       "\n",
       "[192544 rows x 11 columns]"
      ]
     },
     "execution_count": 15,
     "metadata": {},
     "output_type": "execute_result"
    }
   ],
   "source": [
    "for col in ['bust size','weight','rating','rented for','body type','height','age']:\n",
    "    df[col].fillna(df[col].mode()[0],inplace=True)\n",
    "df\n"
   ]
  },
  {
   "cell_type": "code",
   "execution_count": 16,
   "id": "c4bf5fc5",
   "metadata": {},
   "outputs": [
    {
     "data": {
      "text/plain": [
       "fit           0.0\n",
       "bust size     0.0\n",
       "item_id       0.0\n",
       "weight        0.0\n",
       "rating        0.0\n",
       "rented for    0.0\n",
       "body type     0.0\n",
       "category      0.0\n",
       "height        0.0\n",
       "size          0.0\n",
       "age           0.0\n",
       "dtype: float64"
      ]
     },
     "execution_count": 16,
     "metadata": {},
     "output_type": "execute_result"
    }
   ],
   "source": [
    "df.isna().sum()/len(df)*100"
   ]
  },
  {
   "cell_type": "markdown",
   "id": "9a358f4b",
   "metadata": {},
   "source": [
    "# 9. Check the statistical summary for the numerical and categorical columns and write your findings."
   ]
  },
  {
   "cell_type": "code",
   "execution_count": 17,
   "id": "0b1eacda",
   "metadata": {},
   "outputs": [
    {
     "data": {
      "text/html": [
       "<div>\n",
       "<style scoped>\n",
       "    .dataframe tbody tr th:only-of-type {\n",
       "        vertical-align: middle;\n",
       "    }\n",
       "\n",
       "    .dataframe tbody tr th {\n",
       "        vertical-align: top;\n",
       "    }\n",
       "\n",
       "    .dataframe thead th {\n",
       "        text-align: right;\n",
       "    }\n",
       "</style>\n",
       "<table border=\"1\" class=\"dataframe\">\n",
       "  <thead>\n",
       "    <tr style=\"text-align: right;\">\n",
       "      <th></th>\n",
       "      <th>item_id</th>\n",
       "      <th>weight</th>\n",
       "      <th>rating</th>\n",
       "      <th>height</th>\n",
       "      <th>size</th>\n",
       "      <th>age</th>\n",
       "    </tr>\n",
       "  </thead>\n",
       "  <tbody>\n",
       "    <tr>\n",
       "      <th>count</th>\n",
       "      <td>1.925440e+05</td>\n",
       "      <td>192544.000000</td>\n",
       "      <td>192544.000000</td>\n",
       "      <td>192544.000000</td>\n",
       "      <td>192544.000000</td>\n",
       "      <td>192544.000000</td>\n",
       "    </tr>\n",
       "    <tr>\n",
       "      <th>mean</th>\n",
       "      <td>1.045684e+06</td>\n",
       "      <td>136.240709</td>\n",
       "      <td>9.092758</td>\n",
       "      <td>65.306013</td>\n",
       "      <td>12.245175</td>\n",
       "      <td>33.856703</td>\n",
       "    </tr>\n",
       "    <tr>\n",
       "      <th>std</th>\n",
       "      <td>8.053148e+05</td>\n",
       "      <td>20.300468</td>\n",
       "      <td>1.429862</td>\n",
       "      <td>2.659925</td>\n",
       "      <td>8.494877</td>\n",
       "      <td>8.040513</td>\n",
       "    </tr>\n",
       "    <tr>\n",
       "      <th>min</th>\n",
       "      <td>1.233730e+05</td>\n",
       "      <td>50.000000</td>\n",
       "      <td>2.000000</td>\n",
       "      <td>54.000000</td>\n",
       "      <td>0.000000</td>\n",
       "      <td>0.000000</td>\n",
       "    </tr>\n",
       "    <tr>\n",
       "      <th>25%</th>\n",
       "      <td>1.950760e+05</td>\n",
       "      <td>125.000000</td>\n",
       "      <td>8.000000</td>\n",
       "      <td>63.000000</td>\n",
       "      <td>8.000000</td>\n",
       "      <td>29.000000</td>\n",
       "    </tr>\n",
       "    <tr>\n",
       "      <th>50%</th>\n",
       "      <td>9.483960e+05</td>\n",
       "      <td>130.000000</td>\n",
       "      <td>10.000000</td>\n",
       "      <td>65.000000</td>\n",
       "      <td>12.000000</td>\n",
       "      <td>32.000000</td>\n",
       "    </tr>\n",
       "    <tr>\n",
       "      <th>75%</th>\n",
       "      <td>1.678888e+06</td>\n",
       "      <td>145.000000</td>\n",
       "      <td>10.000000</td>\n",
       "      <td>67.000000</td>\n",
       "      <td>16.000000</td>\n",
       "      <td>37.000000</td>\n",
       "    </tr>\n",
       "    <tr>\n",
       "      <th>max</th>\n",
       "      <td>2.966087e+06</td>\n",
       "      <td>300.000000</td>\n",
       "      <td>10.000000</td>\n",
       "      <td>78.000000</td>\n",
       "      <td>58.000000</td>\n",
       "      <td>117.000000</td>\n",
       "    </tr>\n",
       "  </tbody>\n",
       "</table>\n",
       "</div>"
      ],
      "text/plain": [
       "            item_id         weight         rating         height  \\\n",
       "count  1.925440e+05  192544.000000  192544.000000  192544.000000   \n",
       "mean   1.045684e+06     136.240709       9.092758      65.306013   \n",
       "std    8.053148e+05      20.300468       1.429862       2.659925   \n",
       "min    1.233730e+05      50.000000       2.000000      54.000000   \n",
       "25%    1.950760e+05     125.000000       8.000000      63.000000   \n",
       "50%    9.483960e+05     130.000000      10.000000      65.000000   \n",
       "75%    1.678888e+06     145.000000      10.000000      67.000000   \n",
       "max    2.966087e+06     300.000000      10.000000      78.000000   \n",
       "\n",
       "                size            age  \n",
       "count  192544.000000  192544.000000  \n",
       "mean       12.245175      33.856703  \n",
       "std         8.494877       8.040513  \n",
       "min         0.000000       0.000000  \n",
       "25%         8.000000      29.000000  \n",
       "50%        12.000000      32.000000  \n",
       "75%        16.000000      37.000000  \n",
       "max        58.000000     117.000000  "
      ]
     },
     "execution_count": 17,
     "metadata": {},
     "output_type": "execute_result"
    }
   ],
   "source": [
    "df.describe()"
   ]
  },
  {
   "cell_type": "markdown",
   "id": "9552f9db",
   "metadata": {},
   "source": [
    "# From the summary we can find:\n",
    "    There are total 192544 entries\n",
    "    Min weight is 136.24 lbs,max weight is 300 lbs,min weight is 50 lbs.\n",
    "    Min rating is 2 while max is 10,more than 50% entries contain 10 rating\n",
    "    Min height is 54 inch while max is 78 inch,maximum entries have height more than mean height of 65.30\n",
    "    Min age is 0 while max age is 117 ,maximum entries are above age of 30"
   ]
  },
  {
   "cell_type": "code",
   "execution_count": 18,
   "id": "954ac70a",
   "metadata": {},
   "outputs": [
    {
     "data": {
      "text/plain": [
       "fit    bust size  rented for     body type  category\n",
       "fit    34b        wedding        hourglass  dress       0.009785\n",
       "                  formal affair  hourglass  gown        0.008627\n",
       "                  wedding        athletic   dress       0.007557\n",
       "                  formal affair  athletic   gown        0.006388\n",
       "                  party          hourglass  dress       0.006238\n",
       "                                                          ...   \n",
       "       38d        formal affair  apple      shift       0.000005\n",
       "                                 athletic   maxi        0.000005\n",
       "                                 full bust  jumpsuit    0.000005\n",
       "                                            maxi        0.000005\n",
       "small  46ddd/e    formal affair  apple      dress       0.000005\n",
       "Length: 20655, dtype: float64"
      ]
     },
     "execution_count": 18,
     "metadata": {},
     "output_type": "execute_result"
    }
   ],
   "source": [
    "df[['fit','bust size','rented for','body type','category']].value_counts(normalize=True)"
   ]
  },
  {
   "cell_type": "code",
   "execution_count": 19,
   "id": "e35719ac",
   "metadata": {},
   "outputs": [
    {
     "data": {
      "text/plain": [
       "array(['fit', 'small', 'large'], dtype=object)"
      ]
     },
     "execution_count": 19,
     "metadata": {},
     "output_type": "execute_result"
    }
   ],
   "source": [
    "df['fit'].unique()"
   ]
  },
  {
   "cell_type": "code",
   "execution_count": 20,
   "id": "f4d9bb0a",
   "metadata": {},
   "outputs": [
    {
     "data": {
      "text/plain": [
       "array(['34d', '34b', '34c', '32b', '34d+', '36d', '36a', '32d+', '36c',\n",
       "       '32c', '32dd', '30dd', '32d', '36b', '34a', '34dd', '40ddd/e',\n",
       "       '32a', '38d+', '38c', '34ddd/e', '38a', '38b', '38d', '36ddd/e',\n",
       "       '38dd', '38f', '42dd', '36dd', '40g', '40dd', '28f', '30ddd/e',\n",
       "       '32ddd/e', '28b', '36d+', '40d', '28dd', '34f', '42c', '30d',\n",
       "       '30b', '42d', '34aa', '32aa', '36f', '28c', '40b', '36aa', '34g',\n",
       "       '32f', '42ddd/e', '40c', '28g', '28aa', '36g', '30a', '44ddd/e',\n",
       "       '30c', '30aa', '44dd', '32i', '32g', '30g', '38h', '30h', '34j',\n",
       "       '38ddd/e', '32h', '28a', '44d', '40h', '38g', '34h', '36j', '40f',\n",
       "       '36h', '28ddd/e', '44f', '34i', '30f', '36i', '30i', '28h', '42b',\n",
       "       '42j', '32j', '46c', '48d', '38aa', '38i', '48dd', '28d', '28i',\n",
       "       '46ddd/e', '42g', '44c', '42f', '40j', '38j', '46f', '44b', '44g',\n",
       "       '42h', '40i', '44h'], dtype=object)"
      ]
     },
     "execution_count": 20,
     "metadata": {},
     "output_type": "execute_result"
    }
   ],
   "source": [
    "df['bust size'].unique()"
   ]
  },
  {
   "cell_type": "code",
   "execution_count": 21,
   "id": "08c5434d",
   "metadata": {},
   "outputs": [
    {
     "data": {
      "text/plain": [
       "array(['vacation', 'other', 'party', 'formal affair', 'wedding', 'date',\n",
       "       'everyday', 'work'], dtype=object)"
      ]
     },
     "execution_count": 21,
     "metadata": {},
     "output_type": "execute_result"
    }
   ],
   "source": [
    "df['rented for'].unique()"
   ]
  },
  {
   "cell_type": "code",
   "execution_count": 22,
   "id": "6a06510f",
   "metadata": {},
   "outputs": [
    {
     "data": {
      "text/plain": [
       "array(['hourglass', 'straight & narrow', 'pear', 'athletic', 'full bust',\n",
       "       'petite', 'apple'], dtype=object)"
      ]
     },
     "execution_count": 22,
     "metadata": {},
     "output_type": "execute_result"
    }
   ],
   "source": [
    "df['body type'].unique()"
   ]
  },
  {
   "cell_type": "code",
   "execution_count": 23,
   "id": "ee764dde",
   "metadata": {},
   "outputs": [
    {
     "data": {
      "text/plain": [
       "array(['romper', 'gown', 'sheath', 'dress', 'leggings', 'top', 'jumpsuit',\n",
       "       'sweater', 'jacket', 'shirtdress', 'maxi', 'shift', 'pants',\n",
       "       'shirt', 'mini', 'skirt', 'pullover', 'blouse', 'suit', 'coat',\n",
       "       'trench', 'bomber', 'cape', 'blazer', 'vest', 'duster', 'ballgown',\n",
       "       'tank', 'poncho', 'frock', 'tunic', 'cardigan', 'culottes', 'down',\n",
       "       'trouser', 'midi', 'pant', 'legging', 'print', 'knit', 'culotte',\n",
       "       'sweatshirt', 'peacoat', 'kaftan', 'overalls', 'jogger', 'tee',\n",
       "       'combo', 'henley', 'cami', 'blouson', 'turtleneck', 'trousers',\n",
       "       'overcoat', 'hoodie', 't-shirt', 'caftan', 'tight', 'kimono',\n",
       "       'for', 'crewneck', 'skirts', 'parka', 'buttondown', 'skort',\n",
       "       'sweatershirt', 'sweatpants', 'jeans'], dtype=object)"
      ]
     },
     "execution_count": 23,
     "metadata": {},
     "output_type": "execute_result"
    }
   ],
   "source": [
    "df['category'].unique()"
   ]
  },
  {
   "cell_type": "markdown",
   "id": "97525e3f",
   "metadata": {},
   "source": [
    "From above we can see different unique categorical entries "
   ]
  },
  {
   "cell_type": "markdown",
   "id": "e6c644bf",
   "metadata": {},
   "source": [
    "# 10. Are there outliers present in the column age? If yes, treat them with the appropriate method."
   ]
  },
  {
   "cell_type": "code",
   "execution_count": 24,
   "id": "6bf4f0a6",
   "metadata": {},
   "outputs": [
    {
     "data": {
      "image/png": "[encoded data removed]",
      "text/plain": [
       "<Figure size 432x288 with 1 Axes>"
      ]
     },
     "metadata": {
      "needs_background": "light"
     },
     "output_type": "display_data"
    }
   ],
   "source": [
    "sns.boxplot(df['age'])\n",
    "plt.show()"
   ]
  },
  {
   "cell_type": "code",
   "execution_count": 25,
   "id": "19b1ad0e",
   "metadata": {},
   "outputs": [
    {
     "data": {
      "image/png": "[encoded data removed]",
      "text/plain": [
       "<Figure size 432x288 with 1 Axes>"
      ]
     },
     "metadata": {
      "needs_background": "light"
     },
     "output_type": "display_data"
    }
   ],
   "source": [
    "## let use log transformation and transform the column age and visualize the distribution\n",
    "age_log = np.log(df['age'])\n",
    "sns.boxplot(age_log)\n",
    "plt.show()"
   ]
  },
  {
   "cell_type": "markdown",
   "id": "7065ea5a",
   "metadata": {},
   "source": [
    "# 11. Check the distribution of the different categories in the column 'rented for'using appropriate plot."
   ]
  },
  {
   "cell_type": "code",
   "execution_count": 26,
   "id": "e2b6fcf3",
   "metadata": {},
   "outputs": [
    {
     "data": {
      "image/png": "[encoded data removed]",
      "text/plain": [
       "<Figure size 1296x360 with 1 Axes>"
      ]
     },
     "metadata": {
      "needs_background": "light"
     },
     "output_type": "display_data"
    }
   ],
   "source": [
    "plt.figure(figsize=(18,5))\n",
    "sns.countplot(df['rented for'])\n",
    "plt.show()"
   ]
  },
  {
   "cell_type": "raw",
   "id": "5680186e",
   "metadata": {},
   "source": [
    "-More than 55000 outfit had been rented for wedding which stands number one in the reason rented for\n",
    "-Next on the second we have formal affair with 40000\n",
    "-In third we have party with 35000 "
   ]
  },
  {
   "cell_type": "markdown",
   "id": "c7d954dc",
   "metadata": {},
   "source": [
    "# 12 Encode the categorical variables in the dataset."
   ]
  },
  {
   "cell_type": "code",
   "execution_count": 27,
   "id": "a84ee672",
   "metadata": {},
   "outputs": [],
   "source": [
    "le=LabelEncoder()"
   ]
  },
  {
   "cell_type": "code",
   "execution_count": 28,
   "id": "ff6039bb",
   "metadata": {},
   "outputs": [],
   "source": [
    "df.iloc[:,[0,1,5,6,7]]=df.iloc[:,[0,1,5,6,7]].apply(le.fit_transform)"
   ]
  },
  {
   "cell_type": "code",
   "execution_count": 29,
   "id": "ffd38298",
   "metadata": {},
   "outputs": [
    {
     "data": {
      "text/html": [
       "<div>\n",
       "<style scoped>\n",
       "    .dataframe tbody tr th:only-of-type {\n",
       "        vertical-align: middle;\n",
       "    }\n",
       "\n",
       "    .dataframe tbody tr th {\n",
       "        vertical-align: top;\n",
       "    }\n",
       "\n",
       "    .dataframe thead th {\n",
       "        text-align: right;\n",
       "    }\n",
       "</style>\n",
       "<table border=\"1\" class=\"dataframe\">\n",
       "  <thead>\n",
       "    <tr style=\"text-align: right;\">\n",
       "      <th></th>\n",
       "      <th>fit</th>\n",
       "      <th>bust size</th>\n",
       "      <th>rented for</th>\n",
       "      <th>body type</th>\n",
       "      <th>category</th>\n",
       "    </tr>\n",
       "  </thead>\n",
       "  <tbody>\n",
       "    <tr>\n",
       "      <th>0</th>\n",
       "      <td>0</td>\n",
       "      <td>39</td>\n",
       "      <td>5</td>\n",
       "      <td>3</td>\n",
       "      <td>44</td>\n",
       "    </tr>\n",
       "    <tr>\n",
       "      <th>1</th>\n",
       "      <td>0</td>\n",
       "      <td>37</td>\n",
       "      <td>3</td>\n",
       "      <td>6</td>\n",
       "      <td>20</td>\n",
       "    </tr>\n",
       "    <tr>\n",
       "      <th>2</th>\n",
       "      <td>0</td>\n",
       "      <td>37</td>\n",
       "      <td>4</td>\n",
       "      <td>3</td>\n",
       "      <td>45</td>\n",
       "    </tr>\n",
       "    <tr>\n",
       "      <th>3</th>\n",
       "      <td>0</td>\n",
       "      <td>38</td>\n",
       "      <td>2</td>\n",
       "      <td>4</td>\n",
       "      <td>16</td>\n",
       "    </tr>\n",
       "    <tr>\n",
       "      <th>4</th>\n",
       "      <td>0</td>\n",
       "      <td>37</td>\n",
       "      <td>6</td>\n",
       "      <td>1</td>\n",
       "      <td>20</td>\n",
       "    </tr>\n",
       "  </tbody>\n",
       "</table>\n",
       "</div>"
      ],
      "text/plain": [
       "   fit  bust size  rented for  body type  category\n",
       "0    0         39           5          3        44\n",
       "1    0         37           3          6        20\n",
       "2    0         37           4          3        45\n",
       "3    0         38           2          4        16\n",
       "4    0         37           6          1        20"
      ]
     },
     "execution_count": 29,
     "metadata": {},
     "output_type": "execute_result"
    }
   ],
   "source": [
    "df.iloc[:,[0,1,5,6,7]].head()"
   ]
  },
  {
   "cell_type": "markdown",
   "id": "1b7fc76a",
   "metadata": {},
   "source": [
    "# 13. Standardize the data, so that the values are within a particular range."
   ]
  },
  {
   "cell_type": "code",
   "execution_count": 30,
   "id": "db2143b2",
   "metadata": {},
   "outputs": [],
   "source": [
    "df1=df.copy()\n",
    "scaled_feature=StandardScaler().fit_transform(df1.values)\n",
    "scaled_feature_df=pd.DataFrame(scaled_feature,index=df1.index,columns=df1.columns)"
   ]
  },
  {
   "cell_type": "code",
   "execution_count": 31,
   "id": "0dfce17d",
   "metadata": {},
   "outputs": [
    {
     "data": {
      "text/html": [
       "<div>\n",
       "<style scoped>\n",
       "    .dataframe tbody tr th:only-of-type {\n",
       "        vertical-align: middle;\n",
       "    }\n",
       "\n",
       "    .dataframe tbody tr th {\n",
       "        vertical-align: top;\n",
       "    }\n",
       "\n",
       "    .dataframe thead th {\n",
       "        text-align: right;\n",
       "    }\n",
       "</style>\n",
       "<table border=\"1\" class=\"dataframe\">\n",
       "  <thead>\n",
       "    <tr style=\"text-align: right;\">\n",
       "      <th></th>\n",
       "      <th>fit</th>\n",
       "      <th>bust size</th>\n",
       "      <th>item_id</th>\n",
       "      <th>weight</th>\n",
       "      <th>rating</th>\n",
       "      <th>rented for</th>\n",
       "      <th>body type</th>\n",
       "      <th>category</th>\n",
       "      <th>height</th>\n",
       "      <th>size</th>\n",
       "      <th>age</th>\n",
       "    </tr>\n",
       "  </thead>\n",
       "  <tbody>\n",
       "    <tr>\n",
       "      <th>0</th>\n",
       "      <td>-0.556291</td>\n",
       "      <td>-0.004640</td>\n",
       "      <td>1.508460</td>\n",
       "      <td>0.037403</td>\n",
       "      <td>0.634498</td>\n",
       "      <td>0.514420</td>\n",
       "      <td>0.020953</td>\n",
       "      <td>1.569310</td>\n",
       "      <td>1.012808</td>\n",
       "      <td>0.206575</td>\n",
       "      <td>-0.728401</td>\n",
       "    </tr>\n",
       "    <tr>\n",
       "      <th>1</th>\n",
       "      <td>-0.556291</td>\n",
       "      <td>-0.187210</td>\n",
       "      <td>-1.107903</td>\n",
       "      <td>-0.208898</td>\n",
       "      <td>0.634498</td>\n",
       "      <td>-0.456753</td>\n",
       "      <td>1.927582</td>\n",
       "      <td>-0.307247</td>\n",
       "      <td>0.260905</td>\n",
       "      <td>-0.028862</td>\n",
       "      <td>0.266563</td>\n",
       "    </tr>\n",
       "    <tr>\n",
       "      <th>2</th>\n",
       "      <td>-0.556291</td>\n",
       "      <td>-0.187210</td>\n",
       "      <td>0.022448</td>\n",
       "      <td>-0.307418</td>\n",
       "      <td>0.634498</td>\n",
       "      <td>0.028833</td>\n",
       "      <td>0.020953</td>\n",
       "      <td>1.647500</td>\n",
       "      <td>-0.490998</td>\n",
       "      <td>-0.970608</td>\n",
       "      <td>10.216203</td>\n",
       "    </tr>\n",
       "    <tr>\n",
       "      <th>3</th>\n",
       "      <td>-0.556291</td>\n",
       "      <td>-0.095925</td>\n",
       "      <td>-1.141604</td>\n",
       "      <td>-0.061117</td>\n",
       "      <td>-0.764242</td>\n",
       "      <td>-0.942340</td>\n",
       "      <td>0.656496</td>\n",
       "      <td>-0.620006</td>\n",
       "      <td>-0.115046</td>\n",
       "      <td>-0.499735</td>\n",
       "      <td>0.017822</td>\n",
       "    </tr>\n",
       "    <tr>\n",
       "      <th>4</th>\n",
       "      <td>-0.556291</td>\n",
       "      <td>-0.187210</td>\n",
       "      <td>-0.532714</td>\n",
       "      <td>0.431483</td>\n",
       "      <td>0.634498</td>\n",
       "      <td>1.000007</td>\n",
       "      <td>-1.250132</td>\n",
       "      <td>-0.307247</td>\n",
       "      <td>1.388760</td>\n",
       "      <td>-0.028862</td>\n",
       "      <td>-0.852772</td>\n",
       "    </tr>\n",
       "    <tr>\n",
       "      <th>...</th>\n",
       "      <td>...</td>\n",
       "      <td>...</td>\n",
       "      <td>...</td>\n",
       "      <td>...</td>\n",
       "      <td>...</td>\n",
       "      <td>...</td>\n",
       "      <td>...</td>\n",
       "      <td>...</td>\n",
       "      <td>...</td>\n",
       "      <td>...</td>\n",
       "      <td>...</td>\n",
       "    </tr>\n",
       "    <tr>\n",
       "      <th>192539</th>\n",
       "      <td>-0.556291</td>\n",
       "      <td>0.177930</td>\n",
       "      <td>1.498956</td>\n",
       "      <td>0.185183</td>\n",
       "      <td>0.634498</td>\n",
       "      <td>1.485593</td>\n",
       "      <td>0.020953</td>\n",
       "      <td>0.161892</td>\n",
       "      <td>1.388760</td>\n",
       "      <td>-0.499735</td>\n",
       "      <td>1.012786</td>\n",
       "    </tr>\n",
       "    <tr>\n",
       "      <th>192540</th>\n",
       "      <td>-0.556291</td>\n",
       "      <td>-1.282633</td>\n",
       "      <td>-0.451552</td>\n",
       "      <td>-1.785220</td>\n",
       "      <td>0.634498</td>\n",
       "      <td>1.485593</td>\n",
       "      <td>1.292039</td>\n",
       "      <td>-0.620006</td>\n",
       "      <td>-1.618852</td>\n",
       "      <td>-0.970608</td>\n",
       "      <td>-0.604031</td>\n",
       "    </tr>\n",
       "    <tr>\n",
       "      <th>192541</th>\n",
       "      <td>-0.556291</td>\n",
       "      <td>0.816927</td>\n",
       "      <td>-0.450052</td>\n",
       "      <td>-0.061117</td>\n",
       "      <td>-2.162982</td>\n",
       "      <td>-1.427926</td>\n",
       "      <td>1.927582</td>\n",
       "      <td>-0.620006</td>\n",
       "      <td>1.012808</td>\n",
       "      <td>-0.499735</td>\n",
       "      <td>-0.355290</td>\n",
       "    </tr>\n",
       "    <tr>\n",
       "      <th>192542</th>\n",
       "      <td>-0.556291</td>\n",
       "      <td>1.090783</td>\n",
       "      <td>-1.141604</td>\n",
       "      <td>1.416685</td>\n",
       "      <td>0.634498</td>\n",
       "      <td>1.000007</td>\n",
       "      <td>0.656496</td>\n",
       "      <td>-0.620006</td>\n",
       "      <td>0.260905</td>\n",
       "      <td>0.442012</td>\n",
       "      <td>-0.355290</td>\n",
       "    </tr>\n",
       "    <tr>\n",
       "      <th>192543</th>\n",
       "      <td>-0.556291</td>\n",
       "      <td>0.999497</td>\n",
       "      <td>-1.139705</td>\n",
       "      <td>0.924084</td>\n",
       "      <td>0.634498</td>\n",
       "      <td>1.000007</td>\n",
       "      <td>-1.250132</td>\n",
       "      <td>-0.307247</td>\n",
       "      <td>0.260905</td>\n",
       "      <td>0.442012</td>\n",
       "      <td>-0.479660</td>\n",
       "    </tr>\n",
       "  </tbody>\n",
       "</table>\n",
       "<p>192544 rows × 11 columns</p>\n",
       "</div>"
      ],
      "text/plain": [
       "             fit  bust size   item_id    weight    rating  rented for  \\\n",
       "0      -0.556291  -0.004640  1.508460  0.037403  0.634498    0.514420   \n",
       "1      -0.556291  -0.187210 -1.107903 -0.208898  0.634498   -0.456753   \n",
       "2      -0.556291  -0.187210  0.022448 -0.307418  0.634498    0.028833   \n",
       "3      -0.556291  -0.095925 -1.141604 -0.061117 -0.764242   -0.942340   \n",
       "4      -0.556291  -0.187210 -0.532714  0.431483  0.634498    1.000007   \n",
       "...          ...        ...       ...       ...       ...         ...   \n",
       "192539 -0.556291   0.177930  1.498956  0.185183  0.634498    1.485593   \n",
       "192540 -0.556291  -1.282633 -0.451552 -1.785220  0.634498    1.485593   \n",
       "192541 -0.556291   0.816927 -0.450052 -0.061117 -2.162982   -1.427926   \n",
       "192542 -0.556291   1.090783 -1.141604  1.416685  0.634498    1.000007   \n",
       "192543 -0.556291   0.999497 -1.139705  0.924084  0.634498    1.000007   \n",
       "\n",
       "        body type  category    height      size        age  \n",
       "0        0.020953  1.569310  1.012808  0.206575  -0.728401  \n",
       "1        1.927582 -0.307247  0.260905 -0.028862   0.266563  \n",
       "2        0.020953  1.647500 -0.490998 -0.970608  10.216203  \n",
       "3        0.656496 -0.620006 -0.115046 -0.499735   0.017822  \n",
       "4       -1.250132 -0.307247  1.388760 -0.028862  -0.852772  \n",
       "...           ...       ...       ...       ...        ...  \n",
       "192539   0.020953  0.161892  1.388760 -0.499735   1.012786  \n",
       "192540   1.292039 -0.620006 -1.618852 -0.970608  -0.604031  \n",
       "192541   1.927582 -0.620006  1.012808 -0.499735  -0.355290  \n",
       "192542   0.656496 -0.620006  0.260905  0.442012  -0.355290  \n",
       "192543  -1.250132 -0.307247  0.260905  0.442012  -0.479660  \n",
       "\n",
       "[192544 rows x 11 columns]"
      ]
     },
     "execution_count": 31,
     "metadata": {},
     "output_type": "execute_result"
    }
   ],
   "source": [
    "scaled_feature_df"
   ]
  },
  {
   "cell_type": "markdown",
   "id": "5207f65c",
   "metadata": {},
   "source": [
    "# 14. Apply PCA on the above dataset and determine the number of PCA components to be used so that 90-95% of the variance in data is explained by the same. "
   ]
  },
  {
   "cell_type": "code",
   "execution_count": 32,
   "id": "c7b35e6e",
   "metadata": {},
   "outputs": [
    {
     "data": {
      "text/plain": [
       "array([[ 1.00000519e+00,  9.05525666e-03,  2.36767713e-02,\n",
       "         1.41240336e-02, -2.45044635e-01,  8.35378787e-03,\n",
       "        -7.61016810e-03,  3.35892077e-04,  1.06689491e-04,\n",
       "         6.54006939e-02,  1.58535634e-03],\n",
       "       [ 9.05525666e-03,  1.00000519e+00, -4.74223785e-02,\n",
       "         5.53905519e-01, -2.09457651e-02, -2.07814670e-03,\n",
       "        -2.15702411e-01, -1.09647683e-02,  1.47008395e-01,\n",
       "         6.27115858e-01,  1.65407124e-01],\n",
       "       [ 2.36767713e-02, -4.74223785e-02,  1.00000519e+00,\n",
       "        -2.73333412e-02, -1.46500776e-03, -6.25903069e-02,\n",
       "         7.42619903e-03,  3.01331416e-01,  4.57632073e-03,\n",
       "        -4.43115259e-02,  2.62801213e-02],\n",
       "       [ 1.41240336e-02,  5.53905519e-01, -2.73333412e-02,\n",
       "         1.00000519e+00, -2.09651667e-02,  9.19429998e-03,\n",
       "        -2.29920750e-01, -1.34802562e-02,  3.43259194e-01,\n",
       "         6.99741338e-01,  6.62728926e-02],\n",
       "       [-2.45044635e-01, -2.09457651e-02, -1.46500776e-03,\n",
       "        -2.09651667e-02,  1.00000519e+00,  1.27900970e-02,\n",
       "         4.72965534e-03, -2.37071846e-02,  1.83477352e-03,\n",
       "        -3.67286881e-02, -3.51431810e-02],\n",
       "       [ 8.35378787e-03, -2.07814670e-03, -6.25903069e-02,\n",
       "         9.19429998e-03,  1.27900970e-02,  1.00000519e+00,\n",
       "        -9.08626233e-03, -5.76351186e-02, -1.71578033e-02,\n",
       "         4.87422452e-03, -3.82472361e-02],\n",
       "       [-7.61016810e-03, -2.15702411e-01,  7.42619903e-03,\n",
       "        -2.29920750e-01,  4.72965534e-03, -9.08626233e-03,\n",
       "         1.00000519e+00, -1.85295641e-03, -1.33439452e-01,\n",
       "        -2.14155816e-01, -4.17797231e-02],\n",
       "       [ 3.35892077e-04, -1.09647683e-02,  3.01331416e-01,\n",
       "        -1.34802562e-02, -2.37071846e-02, -5.76351186e-02,\n",
       "        -1.85295641e-03,  1.00000519e+00, -4.39138892e-03,\n",
       "        -5.62602705e-03,  2.44991298e-02],\n",
       "       [ 1.06689491e-04,  1.47008395e-01,  4.57632073e-03,\n",
       "         3.43259194e-01,  1.83477352e-03, -1.71578033e-02,\n",
       "        -1.33439452e-01, -4.39138892e-03,  1.00000519e+00,\n",
       "         2.28239705e-01, -6.99813101e-03],\n",
       "       [ 6.54006939e-02,  6.27115858e-01, -4.43115259e-02,\n",
       "         6.99741338e-01, -3.67286881e-02,  4.87422452e-03,\n",
       "        -2.14155816e-01, -5.62602705e-03,  2.28239705e-01,\n",
       "         1.00000519e+00,  1.55031274e-01],\n",
       "       [ 1.58535634e-03,  1.65407124e-01,  2.62801213e-02,\n",
       "         6.62728926e-02, -3.51431810e-02, -3.82472361e-02,\n",
       "        -4.17797231e-02,  2.44991298e-02, -6.99813101e-03,\n",
       "         1.55031274e-01,  1.00000519e+00]])"
      ]
     },
     "execution_count": 32,
     "metadata": {},
     "output_type": "execute_result"
    }
   ],
   "source": [
    "## step1: calculate the covariance matrix\n",
    "cov_matrix=np.cov(scaled_feature.T)\n",
    "cov_matrix"
   ]
  },
  {
   "cell_type": "code",
   "execution_count": 33,
   "id": "64d03252",
   "metadata": {},
   "outputs": [
    {
     "name": "stdout",
     "output_type": "stream",
     "text": [
      "Eigen Values: \n",
      " [2.52747712 0.27672864 0.42197939 1.3385435  1.23748048 1.0421332\n",
      " 0.68756971 0.76135726 0.97796458 0.84042843 0.88839483]\n",
      "\n",
      "\n",
      "Eigen vectors: \n",
      " [[-3.80025388e-02 -5.61677710e-02 -3.19027181e-02  1.98992911e-01\n",
      "  -6.70713881e-01  1.32689727e-01  2.38899071e-01 -6.54072909e-01\n",
      "   4.34219443e-03 -4.89306838e-02 -4.91427003e-03]\n",
      " [-4.98759680e-01 -1.65376202e-01 -7.76840667e-01 -6.00726012e-03\n",
      "   1.87095022e-02 -1.77538586e-01 -4.52923910e-02  2.68023718e-02\n",
      "  -8.78205447e-02 -2.54217102e-01 -1.15730026e-01]\n",
      " [ 4.16507371e-02  2.05524317e-02 -2.20077447e-02  6.44714949e-01\n",
      "   2.00756003e-01  1.27195387e-01 -6.67066314e-01 -2.34595786e-01\n",
      "  -1.50394602e-01  4.20081985e-02 -2.86983152e-02]\n",
      " [-5.38338662e-01 -6.35971796e-01  5.02963743e-01 -9.38704256e-03\n",
      "   4.53577595e-02  1.11946406e-01 -5.14381100e-02  2.15371499e-02\n",
      "   1.82654010e-02 -5.57083517e-02 -1.77579893e-01]\n",
      " [ 3.67925081e-02 -8.26694550e-03  1.48660962e-03 -2.16973280e-01\n",
      "   6.66555268e-01 -1.93792666e-02  2.33848079e-01 -6.64006674e-01\n",
      "  -6.30227474e-02 -7.56737206e-02 -3.92263714e-02]\n",
      " [-1.52564752e-03  2.74896748e-03 -1.63755396e-02 -2.48952223e-01\n",
      "  -8.95893509e-02  2.60768320e-01 -1.40498297e-02  4.33399311e-02\n",
      "  -9.02376243e-01  2.08021055e-01 -4.56835680e-02]\n",
      " [ 2.56037646e-01 -1.82814198e-02 -2.74837387e-02 -7.73693321e-03\n",
      "  -5.42213480e-02 -1.66877484e-01 -8.89312162e-04  5.19496972e-03\n",
      "   3.56210133e-02  1.23197499e-01 -9.41293254e-01]\n",
      " [ 1.62884194e-02 -1.44846473e-02  4.51840708e-03  6.42763379e-01\n",
      "   2.01896618e-01  9.72382282e-02  6.50188997e-01  2.52829197e-01\n",
      "  -1.89257745e-01 -1.05718336e-01 -4.97894756e-02]\n",
      " [-2.72127709e-01  9.71891806e-02 -2.21922227e-01  6.82459705e-03\n",
      "   1.02066974e-01  4.75610333e-01  1.02820153e-01 -2.22907548e-03\n",
      "   2.98701522e-01  7.26589056e-01 -5.33915667e-02]\n",
      " [-5.45774949e-01  7.41971564e-01  2.91693509e-01  1.05312855e-02\n",
      "  -1.84710342e-02 -6.82324313e-02 -9.74123969e-03 -2.86285820e-02\n",
      "  -5.14401499e-02 -1.58274466e-01 -1.81117822e-01]\n",
      " [-1.38386773e-01 -6.34500788e-02  8.16284833e-02  1.49008503e-01\n",
      "  -2.54818201e-02 -7.65260040e-01  7.04043074e-02 -9.17271160e-02\n",
      "  -1.48680012e-01  5.47517689e-01  1.62579817e-01]]\n"
     ]
    }
   ],
   "source": [
    "## step2: calculate eigen values and eigen vector\n",
    "eig_vals,eig_vectors=np.linalg.eig(cov_matrix)\n",
    "print('Eigen Values:','\\n',eig_vals)\n",
    "print('\\n')\n",
    "print('Eigen vectors:','\\n',eig_vectors)"
   ]
  },
  {
   "cell_type": "code",
   "execution_count": 34,
   "id": "9fafddbb",
   "metadata": {},
   "outputs": [
    {
     "name": "stdout",
     "output_type": "stream",
     "text": [
      "11.000057130095612\n",
      "Explained variance: [22.97694540030642, 12.168514116888996, 11.249764142905128, 9.473888975736202, 8.890540877936408, 8.076274647717272, 7.640218745052241, 6.92139365914612, 6.250601235655316, 3.8361563526070444, 2.5157018460488576]\n",
      "Cummulative Variance Explained: [ 22.9769454   35.14545952  46.39522366  55.86911264  64.75965351\n",
      "  72.83592816  80.47614691  87.39754057  93.6481418   97.48429815\n",
      " 100.        ]\n"
     ]
    }
   ],
   "source": [
    "## Step3 : screen plot\n",
    "total=sum(eig_vals)\n",
    "print(total)\n",
    "var_exp=[(i/total)*100 for i in sorted(eig_vals,reverse=True)]\n",
    "cum_var_exp=np.cumsum(var_exp)\n",
    "print('Explained variance:',var_exp)\n",
    "print('Cummulative Variance Explained:',cum_var_exp)\n"
   ]
  },
  {
   "cell_type": "code",
   "execution_count": 35,
   "id": "79cf9bfd",
   "metadata": {},
   "outputs": [
    {
     "data": {
      "image/png": "[encoded data removed]",
      "text/plain": [
       "<Figure size 432x288 with 1 Axes>"
      ]
     },
     "metadata": {
      "needs_background": "light"
     },
     "output_type": "display_data"
    }
   ],
   "source": [
    "plt.bar(range(11),var_exp,align='center',color='lightgreen',edgecolor='black',label='Explained Variance')\n",
    "plt.step(range(11),cum_var_exp,where='mid',color='red',label='Cummulative Explained Variance')\n",
    "plt.xlabel('Principal Components')\n",
    "plt.ylabel('Explained Variance ratio')\n",
    "plt.title('Screen plot')\n",
    "plt.legend(loc='best')\n",
    "plt.show()"
   ]
  },
  {
   "cell_type": "markdown",
   "id": "701f7d81",
   "metadata": {},
   "source": [
    "# 15. Apply K-means clustering and segment the data. (You may use original data or PCA transformed data)\n",
    "a. Find the optimal K Value using elbow plot for K Means clustering.\n",
    "b. Build a Kmeans clustering model using the obtained optimal K value from the elbow plot.\n",
    "c. Compute silhouette score for evaluating the quality of the K Means clustering technique.\n"
   ]
  },
  {
   "cell_type": "code",
   "execution_count": 36,
   "id": "e7837ee1",
   "metadata": {},
   "outputs": [
    {
     "name": "stdout",
     "output_type": "stream",
     "text": [
      "CPU times: total: 1.02 s\n",
      "Wall time: 1.11 s\n"
     ]
    },
    {
     "data": {
      "text/html": [
       "<div>\n",
       "<style scoped>\n",
       "    .dataframe tbody tr th:only-of-type {\n",
       "        vertical-align: middle;\n",
       "    }\n",
       "\n",
       "    .dataframe tbody tr th {\n",
       "        vertical-align: top;\n",
       "    }\n",
       "\n",
       "    .dataframe thead th {\n",
       "        text-align: right;\n",
       "    }\n",
       "</style>\n",
       "<table border=\"1\" class=\"dataframe\">\n",
       "  <thead>\n",
       "    <tr style=\"text-align: right;\">\n",
       "      <th></th>\n",
       "      <th>PC1</th>\n",
       "      <th>PC2</th>\n",
       "      <th>PC3</th>\n",
       "      <th>PC4</th>\n",
       "      <th>PC5</th>\n",
       "      <th>PC6</th>\n",
       "    </tr>\n",
       "  </thead>\n",
       "  <tbody>\n",
       "    <tr>\n",
       "      <th>0</th>\n",
       "      <td>0.167921</td>\n",
       "      <td>1.504853</td>\n",
       "      <td>-1.488217</td>\n",
       "      <td>-1.419038</td>\n",
       "      <td>0.628435</td>\n",
       "      <td>0.402823</td>\n",
       "    </tr>\n",
       "    <tr>\n",
       "      <th>1</th>\n",
       "      <td>-0.601260</td>\n",
       "      <td>-1.017057</td>\n",
       "      <td>-0.455386</td>\n",
       "      <td>0.765763</td>\n",
       "      <td>-0.715604</td>\n",
       "      <td>1.675219</td>\n",
       "    </tr>\n",
       "    <tr>\n",
       "      <th>2</th>\n",
       "      <td>0.413996</td>\n",
       "      <td>2.330457</td>\n",
       "      <td>-0.819491</td>\n",
       "      <td>7.905558</td>\n",
       "      <td>1.987707</td>\n",
       "      <td>-1.813347</td>\n",
       "    </tr>\n",
       "    <tr>\n",
       "      <th>3</th>\n",
       "      <td>-0.487229</td>\n",
       "      <td>-0.852129</td>\n",
       "      <td>0.449364</td>\n",
       "      <td>0.643854</td>\n",
       "      <td>-1.204511</td>\n",
       "      <td>0.357056</td>\n",
       "    </tr>\n",
       "    <tr>\n",
       "      <th>4</th>\n",
       "      <td>0.687381</td>\n",
       "      <td>-1.149407</td>\n",
       "      <td>-0.785334</td>\n",
       "      <td>-1.682254</td>\n",
       "      <td>0.283629</td>\n",
       "      <td>-0.876967</td>\n",
       "    </tr>\n",
       "  </tbody>\n",
       "</table>\n",
       "</div>"
      ],
      "text/plain": [
       "        PC1       PC2       PC3       PC4       PC5       PC6\n",
       "0  0.167921  1.504853 -1.488217 -1.419038  0.628435  0.402823\n",
       "1 -0.601260 -1.017057 -0.455386  0.765763 -0.715604  1.675219\n",
       "2  0.413996  2.330457 -0.819491  7.905558  1.987707 -1.813347\n",
       "3 -0.487229 -0.852129  0.449364  0.643854 -1.204511  0.357056\n",
       "4  0.687381 -1.149407 -0.785334 -1.682254  0.283629 -0.876967"
      ]
     },
     "execution_count": 36,
     "metadata": {},
     "output_type": "execute_result"
    }
   ],
   "source": [
    "%%time\n",
    "pca=PCA(n_components=6)\n",
    "#scikit learn principal component analysis method\n",
    "\n",
    "pca_df=pd.DataFrame(pca.fit_transform(scaled_feature_df),columns=['PC1','PC2','PC3','PC4','PC5','PC6'])\n",
    "pca_df.head()"
   ]
  },
  {
   "cell_type": "code",
   "execution_count": 37,
   "id": "e4f94206",
   "metadata": {},
   "outputs": [
    {
     "data": {
      "text/plain": [
       "0    22.976945\n",
       "1    35.145460\n",
       "2    46.395224\n",
       "3    55.869113\n",
       "4    64.759654\n",
       "5    72.835928\n",
       "dtype: float64"
      ]
     },
     "execution_count": 37,
     "metadata": {},
     "output_type": "execute_result"
    }
   ],
   "source": [
    "pd.Series(pca.explained_variance_ratio_).cumsum()*100"
   ]
  },
  {
   "cell_type": "code",
   "execution_count": 38,
   "id": "cb39d87e",
   "metadata": {},
   "outputs": [
    {
     "data": {
      "text/html": [
       "<div>\n",
       "<style scoped>\n",
       "    .dataframe tbody tr th:only-of-type {\n",
       "        vertical-align: middle;\n",
       "    }\n",
       "\n",
       "    .dataframe tbody tr th {\n",
       "        vertical-align: top;\n",
       "    }\n",
       "\n",
       "    .dataframe thead th {\n",
       "        text-align: right;\n",
       "    }\n",
       "</style>\n",
       "<table border=\"1\" class=\"dataframe\">\n",
       "  <thead>\n",
       "    <tr style=\"text-align: right;\">\n",
       "      <th></th>\n",
       "      <th>num_clusters</th>\n",
       "      <th>cluster_errors</th>\n",
       "    </tr>\n",
       "  </thead>\n",
       "  <tbody>\n",
       "    <tr>\n",
       "      <th>0</th>\n",
       "      <td>1</td>\n",
       "      <td>1.542653e+06</td>\n",
       "    </tr>\n",
       "    <tr>\n",
       "      <th>1</th>\n",
       "      <td>2</td>\n",
       "      <td>1.245937e+06</td>\n",
       "    </tr>\n",
       "    <tr>\n",
       "      <th>2</th>\n",
       "      <td>3</td>\n",
       "      <td>1.103914e+06</td>\n",
       "    </tr>\n",
       "    <tr>\n",
       "      <th>3</th>\n",
       "      <td>4</td>\n",
       "      <td>9.907711e+05</td>\n",
       "    </tr>\n",
       "    <tr>\n",
       "      <th>4</th>\n",
       "      <td>5</td>\n",
       "      <td>8.945197e+05</td>\n",
       "    </tr>\n",
       "    <tr>\n",
       "      <th>5</th>\n",
       "      <td>6</td>\n",
       "      <td>8.384942e+05</td>\n",
       "    </tr>\n",
       "    <tr>\n",
       "      <th>6</th>\n",
       "      <td>7</td>\n",
       "      <td>7.905538e+05</td>\n",
       "    </tr>\n",
       "    <tr>\n",
       "      <th>7</th>\n",
       "      <td>8</td>\n",
       "      <td>7.569360e+05</td>\n",
       "    </tr>\n",
       "    <tr>\n",
       "      <th>8</th>\n",
       "      <td>9</td>\n",
       "      <td>7.269940e+05</td>\n",
       "    </tr>\n",
       "    <tr>\n",
       "      <th>9</th>\n",
       "      <td>10</td>\n",
       "      <td>7.029219e+05</td>\n",
       "    </tr>\n",
       "  </tbody>\n",
       "</table>\n",
       "</div>"
      ],
      "text/plain": [
       "   num_clusters  cluster_errors\n",
       "0             1    1.542653e+06\n",
       "1             2    1.245937e+06\n",
       "2             3    1.103914e+06\n",
       "3             4    9.907711e+05\n",
       "4             5    8.945197e+05\n",
       "5             6    8.384942e+05\n",
       "6             7    7.905538e+05\n",
       "7             8    7.569360e+05\n",
       "8             9    7.269940e+05\n",
       "9            10    7.029219e+05"
      ]
     },
     "execution_count": 38,
     "metadata": {},
     "output_type": "execute_result"
    }
   ],
   "source": [
    "## finding optimal k value by Kmeans clustering using elbow plot\n",
    "cluster_errors=[]\n",
    "cluster_range=range(1,11)\n",
    "for num_clusters in cluster_range:\n",
    "    clusters=KMeans(num_clusters,random_state=100,n_init=6)\n",
    "    clusters.fit(pca_df)\n",
    "    cluster_errors.append(clusters.inertia_)\n",
    "    \n",
    "clusters_df = pd.DataFrame({'num_clusters':cluster_range, \n",
    "                           'cluster_errors':cluster_errors})\n",
    "\n",
    "clusters_df"
   ]
  },
  {
   "cell_type": "code",
   "execution_count": 39,
   "id": "2e939085",
   "metadata": {},
   "outputs": [
    {
     "data": {
      "image/png": "[encoded data removed]",
      "text/plain": [
       "<Figure size 1080x360 with 1 Axes>"
      ]
     },
     "metadata": {
      "needs_background": "light"
     },
     "output_type": "display_data"
    }
   ],
   "source": [
    "##creating a dataframe of number of clusters and cluster errors\n",
    "cluster_df=pd.DataFrame({'num_clusters':cluster_range,'cluster_errors':cluster_errors})\n",
    "\n",
    "##elbow plot\n",
    "plt.figure(figsize=[15,5])\n",
    "plt.plot(cluster_df['num_clusters'],cluster_df['cluster_errors'],marker='o',color='b')\n",
    "plt.show()"
   ]
  },
  {
   "cell_type": "code",
   "execution_count": 40,
   "id": "90d47853",
   "metadata": {},
   "outputs": [
    {
     "data": {
      "text/plain": [
       "KMeans(n_clusters=2, n_init=11, random_state=100)"
      ]
     },
     "execution_count": 40,
     "metadata": {},
     "output_type": "execute_result"
    }
   ],
   "source": [
    "## applying KMeans clustering for  the optimal number of cluster obtained above.\n",
    "kmeans = KMeans(n_clusters=2,n_init=11,random_state=100)\n",
    "kmeans.fit(pca_df)"
   ]
  },
  {
   "cell_type": "code",
   "execution_count": 41,
   "id": "af95cbd8",
   "metadata": {},
   "outputs": [
    {
     "data": {
      "text/plain": [
       "array([0, 0, 1, ..., 0, 1, 1])"
      ]
     },
     "execution_count": 41,
     "metadata": {},
     "output_type": "execute_result"
    }
   ],
   "source": [
    "## obtained labels from kmeans clustering\n",
    "kmeans.labels_"
   ]
  },
  {
   "cell_type": "code",
   "execution_count": 42,
   "id": "b01cc272",
   "metadata": {},
   "outputs": [
    {
     "data": {
      "text/html": [
       "<div>\n",
       "<style scoped>\n",
       "    .dataframe tbody tr th:only-of-type {\n",
       "        vertical-align: middle;\n",
       "    }\n",
       "\n",
       "    .dataframe tbody tr th {\n",
       "        vertical-align: top;\n",
       "    }\n",
       "\n",
       "    .dataframe thead th {\n",
       "        text-align: right;\n",
       "    }\n",
       "</style>\n",
       "<table border=\"1\" class=\"dataframe\">\n",
       "  <thead>\n",
       "    <tr style=\"text-align: right;\">\n",
       "      <th></th>\n",
       "      <th>Label</th>\n",
       "    </tr>\n",
       "  </thead>\n",
       "  <tbody>\n",
       "    <tr>\n",
       "      <th>0</th>\n",
       "      <td>0</td>\n",
       "    </tr>\n",
       "    <tr>\n",
       "      <th>1</th>\n",
       "      <td>0</td>\n",
       "    </tr>\n",
       "    <tr>\n",
       "      <th>2</th>\n",
       "      <td>1</td>\n",
       "    </tr>\n",
       "    <tr>\n",
       "      <th>3</th>\n",
       "      <td>0</td>\n",
       "    </tr>\n",
       "    <tr>\n",
       "      <th>4</th>\n",
       "      <td>1</td>\n",
       "    </tr>\n",
       "  </tbody>\n",
       "</table>\n",
       "</div>"
      ],
      "text/plain": [
       "   Label\n",
       "0      0\n",
       "1      0\n",
       "2      1\n",
       "3      0\n",
       "4      1"
      ]
     },
     "execution_count": 42,
     "metadata": {},
     "output_type": "execute_result"
    }
   ],
   "source": [
    "## creating a dataframe of the labels\n",
    "label = pd.DataFrame(kmeans.labels_,columns=['Label'])\n",
    "label.head()"
   ]
  },
  {
   "cell_type": "code",
   "execution_count": 43,
   "id": "b63e533f",
   "metadata": {},
   "outputs": [],
   "source": [
    "#from sklearn.metrics import silhouette_score\n",
    "\n",
    "#kmeans_score = []\n",
    "\n",
    "#for i in range(2,11):\n",
    " #   kmeans = KMeans(n_clusters=i)\n",
    "  #  kmeans = kmeans.fit(pca_df)\n",
    "   # labels = kmeans.predict(pca_df)\n",
    "    #print(i,silhouette_score(pca_df,labels))"
   ]
  },
  {
   "cell_type": "markdown",
   "id": "4bc60ca7",
   "metadata": {},
   "source": [
    "# 16. Apply Agglomerative clustering and segment the data. (You may use original data or PCA transformed data)\n",
    "a. Find the optimal K Value using dendrogram for Agglomerative clustering.\n",
    "b. Build a Agglomerative clustering model using the obtained optimal K\n",
    "value observed from dendrogram.\n",
    "c. Compute silhouette score for evaluating the quality of the Agglomerative\n",
    "clustering technique. (Hint: Take a sample of the dataset for agglomerative\n",
    "clustering to reduce the computational time)"
   ]
  },
  {
   "cell_type": "code",
   "execution_count": 45,
   "id": "2745cfdb",
   "metadata": {},
   "outputs": [
    {
     "ename": "MemoryError",
     "evalue": "Unable to allocate 138. GiB for an array with shape (18536499696,) and data type float64",
     "output_type": "error",
     "traceback": [
      "\u001b[1;31m---------------------------------------------------------------------------\u001b[0m",
      "\u001b[1;31mMemoryError\u001b[0m                               Traceback (most recent call last)",
      "Input \u001b[1;32mIn [45]\u001b[0m, in \u001b[0;36m<cell line: 2>\u001b[1;34m()\u001b[0m\n\u001b[0;32m      1\u001b[0m plt\u001b[38;5;241m.\u001b[39mfigure(figsize\u001b[38;5;241m=\u001b[39m[\u001b[38;5;241m18\u001b[39m,\u001b[38;5;241m5\u001b[39m])\n\u001b[1;32m----> 2\u001b[0m merg\u001b[38;5;241m=\u001b[39m\u001b[43mlinkage\u001b[49m\u001b[43m(\u001b[49m\u001b[43mscaled_feature\u001b[49m\u001b[43m,\u001b[49m\u001b[43mmethod\u001b[49m\u001b[38;5;241;43m=\u001b[39;49m\u001b[38;5;124;43m'\u001b[39;49m\u001b[38;5;124;43mward\u001b[39;49m\u001b[38;5;124;43m'\u001b[39;49m\u001b[43m)\u001b[49m\n\u001b[0;32m      3\u001b[0m dendrogram(merg,leaf_rotation\u001b[38;5;241m=\u001b[39m\u001b[38;5;241m90\u001b[39m)\n\u001b[0;32m      4\u001b[0m plt\u001b[38;5;241m.\u001b[39mxlabel(\u001b[38;5;124m'\u001b[39m\u001b[38;5;124mDatapoints\u001b[39m\u001b[38;5;124m'\u001b[39m)\n",
      "File \u001b[1;32m~\\anaconda3\\lib\\site-packages\\scipy\\cluster\\hierarchy.py:1060\u001b[0m, in \u001b[0;36mlinkage\u001b[1;34m(y, method, metric, optimal_ordering)\u001b[0m\n\u001b[0;32m   1056\u001b[0m         \u001b[38;5;28;01mif\u001b[39;00m np\u001b[38;5;241m.\u001b[39mall(y \u001b[38;5;241m>\u001b[39m\u001b[38;5;241m=\u001b[39m \u001b[38;5;241m0\u001b[39m) \u001b[38;5;129;01mand\u001b[39;00m np\u001b[38;5;241m.\u001b[39mallclose(y, y\u001b[38;5;241m.\u001b[39mT):\n\u001b[0;32m   1057\u001b[0m             _warning(\u001b[38;5;124m'\u001b[39m\u001b[38;5;124mThe symmetric non-negative hollow observation \u001b[39m\u001b[38;5;124m'\u001b[39m\n\u001b[0;32m   1058\u001b[0m                      \u001b[38;5;124m'\u001b[39m\u001b[38;5;124mmatrix looks suspiciously like an uncondensed \u001b[39m\u001b[38;5;124m'\u001b[39m\n\u001b[0;32m   1059\u001b[0m                      \u001b[38;5;124m'\u001b[39m\u001b[38;5;124mdistance matrix\u001b[39m\u001b[38;5;124m'\u001b[39m)\n\u001b[1;32m-> 1060\u001b[0m     y \u001b[38;5;241m=\u001b[39m \u001b[43mdistance\u001b[49m\u001b[38;5;241;43m.\u001b[39;49m\u001b[43mpdist\u001b[49m\u001b[43m(\u001b[49m\u001b[43my\u001b[49m\u001b[43m,\u001b[49m\u001b[43m \u001b[49m\u001b[43mmetric\u001b[49m\u001b[43m)\u001b[49m\n\u001b[0;32m   1061\u001b[0m \u001b[38;5;28;01melse\u001b[39;00m:\n\u001b[0;32m   1062\u001b[0m     \u001b[38;5;28;01mraise\u001b[39;00m \u001b[38;5;167;01mValueError\u001b[39;00m(\u001b[38;5;124m\"\u001b[39m\u001b[38;5;124m`y` must be 1 or 2 dimensional.\u001b[39m\u001b[38;5;124m\"\u001b[39m)\n",
      "File \u001b[1;32m~\\anaconda3\\lib\\site-packages\\scipy\\spatial\\distance.py:2250\u001b[0m, in \u001b[0;36mpdist\u001b[1;34m(X, metric, out, **kwargs)\u001b[0m\n\u001b[0;32m   2248\u001b[0m \u001b[38;5;28;01mif\u001b[39;00m metric_info \u001b[38;5;129;01mis\u001b[39;00m \u001b[38;5;129;01mnot\u001b[39;00m \u001b[38;5;28;01mNone\u001b[39;00m:\n\u001b[0;32m   2249\u001b[0m     pdist_fn \u001b[38;5;241m=\u001b[39m metric_info\u001b[38;5;241m.\u001b[39mpdist_func\n\u001b[1;32m-> 2250\u001b[0m     \u001b[38;5;28;01mreturn\u001b[39;00m pdist_fn(X, out\u001b[38;5;241m=\u001b[39mout, \u001b[38;5;241m*\u001b[39m\u001b[38;5;241m*\u001b[39mkwargs)\n\u001b[0;32m   2251\u001b[0m \u001b[38;5;28;01melif\u001b[39;00m mstr\u001b[38;5;241m.\u001b[39mstartswith(\u001b[38;5;124m\"\u001b[39m\u001b[38;5;124mtest_\u001b[39m\u001b[38;5;124m\"\u001b[39m):\n\u001b[0;32m   2252\u001b[0m     metric_info \u001b[38;5;241m=\u001b[39m _TEST_METRICS\u001b[38;5;241m.\u001b[39mget(mstr, \u001b[38;5;28;01mNone\u001b[39;00m)\n",
      "\u001b[1;31mMemoryError\u001b[0m: Unable to allocate 138. GiB for an array with shape (18536499696,) and data type float64"
     ]
    },
    {
     "data": {
      "text/plain": [
       "<Figure size 1296x360 with 0 Axes>"
      ]
     },
     "metadata": {},
     "output_type": "display_data"
    }
   ],
   "source": [
    "plt.figure(figsize=[18,5])\n",
    "merg=linkage(scaled_feature,method='ward')\n",
    "dendrogram(merg,leaf_rotation=90)\n",
    "plt.xlabel('Datapoints')\n",
    "plt.ylabel('Euclieadn distance')\n",
    "plt.show()"
   ]
  },
  {
   "cell_type": "code",
   "execution_count": null,
   "id": "9666bd2f",
   "metadata": {},
   "outputs": [],
   "source": []
  },
  {
   "cell_type": "code",
   "execution_count": null,
   "id": "66aee7a4",
   "metadata": {},
   "outputs": [],
   "source": []
  },
  {
   "cell_type": "code",
   "execution_count": null,
   "id": "6d0ccc88",
   "metadata": {},
   "outputs": [],
   "source": []
  }
 ],
 "metadata": {
  "kernelspec": {
   "display_name": "Python 3 (ipykernel)",
   "language": "python",
   "name": "python3"
  },
  "language_info": {
   "codemirror_mode": {
    "name": "ipython",
    "version": 3
   },
   "file_extension": ".py",
   "mimetype": "text/x-python",
   "name": "python",
   "nbconvert_exporter": "python",
   "pygments_lexer": "ipython3",
   "version": "3.9.12"
  }
 },
 "nbformat": 4,
 "nbformat_minor": 5
}
